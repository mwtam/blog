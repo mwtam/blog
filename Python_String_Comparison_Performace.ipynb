{
  "nbformat": 4,
  "nbformat_minor": 0,
  "metadata": {
    "colab": {
      "name": "Python String Comparison Performace.ipynb",
      "provenance": [],
      "collapsed_sections": [],
      "authorship_tag": "ABX9TyPEz5Hr6LOWOcl/IB0L1cDC",
      "include_colab_link": true
    },
    "kernelspec": {
      "name": "python3",
      "display_name": "Python 3"
    },
    "language_info": {
      "name": "python"
    }
  },
  "cells": [
    {
      "cell_type": "markdown",
      "metadata": {
        "id": "view-in-github",
        "colab_type": "text"
      },
      "source": [
        "<a href=\"https://colab.research.google.com/github/mwtam/blog/blob/main/Python_String_Comparison_Performace.ipynb\" target=\"_parent\"><img src=\"https://colab.research.google.com/assets/colab-badge.svg\" alt=\"Open In Colab\"/></a>"
      ]
    },
    {
      "cell_type": "code",
      "execution_count": 16,
      "metadata": {
        "id": "8gv-9gZV_d_z"
      },
      "outputs": [],
      "source": [
        "s1 = \"abcde\" * 10000\n",
        "s2 = \"abcde\" * 10000\n",
        "ss = \"abcde\" * 20000"
      ]
    },
    {
      "cell_type": "markdown",
      "source": [
        "Compare s1 + s2 and ss. A naive approach."
      ],
      "metadata": {
        "id": "5PAEY0jv_6fP"
      }
    },
    {
      "cell_type": "code",
      "source": [
        "%timeit s1 + s2 == ss"
      ],
      "metadata": {
        "colab": {
          "base_uri": "https://localhost:8080/"
        },
        "id": "0UsBg6wr_ukt",
        "outputId": "815cf334-477a-469f-d517-2cd4e7917bc2"
      },
      "execution_count": 17,
      "outputs": [
        {
          "output_type": "stream",
          "name": "stdout",
          "text": [
            "The slowest run took 10.14 times longer than the fastest. This could mean that an intermediate result is being cached.\n",
            "100000 loops, best of 5: 9.6 µs per loop\n"
          ]
        }
      ]
    },
    {
      "cell_type": "markdown",
      "source": [
        "In C++, we may gain some performance benefit if we can avoid making the new string `s1 + s2`. The idea is like (Python as C++ pseudocode):\n",
        "\n",
        "\n",
        "\n",
        "> s1 == ss[:len(s1)] and s2 == ss[len(s1):]\n",
        "\n"
      ],
      "metadata": {
        "id": "MB0uISdD_kuk"
      }
    },
    {
      "cell_type": "code",
      "source": [
        "%timeit s1 == ss[:len(s1)] and s2 == ss[len(s1):]"
      ],
      "metadata": {
        "colab": {
          "base_uri": "https://localhost:8080/"
        },
        "id": "gPBFksEyAodb",
        "outputId": "448110ca-af93-44c5-cc97-7a4f03130688"
      },
      "execution_count": 18,
      "outputs": [
        {
          "output_type": "stream",
          "name": "stdout",
          "text": [
            "The slowest run took 5.06 times longer than the fastest. This could mean that an intermediate result is being cached.\n",
            "100000 loops, best of 5: 9.38 µs per loop\n"
          ]
        }
      ]
    },
    {
      "cell_type": "markdown",
      "source": [
        "However, string slice in Python is done by copying. Remove this cost by a pre-made string `s12`. It almost doubled the speed."
      ],
      "metadata": {
        "id": "f6gM8IxmBKjU"
      }
    },
    {
      "cell_type": "code",
      "source": [
        "s12 = s1 + s2"
      ],
      "metadata": {
        "id": "0Pw15HLwBCzH"
      },
      "execution_count": 19,
      "outputs": []
    },
    {
      "cell_type": "code",
      "source": [
        "%timeit s12 == ss"
      ],
      "metadata": {
        "colab": {
          "base_uri": "https://localhost:8080/"
        },
        "id": "C-ad1zZOBFVW",
        "outputId": "01ad752d-2d01-44fd-ec60-a37246a53e49"
      },
      "execution_count": 20,
      "outputs": [
        {
          "output_type": "stream",
          "name": "stdout",
          "text": [
            "The slowest run took 7.31 times longer than the fastest. This could mean that an intermediate result is being cached.\n",
            "100000 loops, best of 5: 3.71 µs per loop\n"
          ]
        }
      ]
    },
    {
      "cell_type": "markdown",
      "source": [
        "What about controlling the detailed operations?"
      ],
      "metadata": {
        "id": "lCsirIwsCHlT"
      }
    },
    {
      "cell_type": "code",
      "source": [
        "from itertools import zip_longest, chain"
      ],
      "metadata": {
        "id": "WQRXL6G-B8wC"
      },
      "execution_count": 21,
      "outputs": []
    },
    {
      "cell_type": "code",
      "source": [
        "%timeit all(c1 == c2 for c1, c2 in zip_longest(chain(s1, s2), ss))"
      ],
      "metadata": {
        "colab": {
          "base_uri": "https://localhost:8080/"
        },
        "id": "wcEXrQE6CABB",
        "outputId": "15eedb69-4dce-48a5-8046-063b33485afb"
      },
      "execution_count": 22,
      "outputs": [
        {
          "output_type": "stream",
          "name": "stdout",
          "text": [
            "100 loops, best of 5: 9.81 ms per loop\n"
          ]
        }
      ]
    },
    {
      "cell_type": "markdown",
      "source": [
        "It is super slow. Almost 1000 times slower.\n",
        "\n",
        "A naive string comparison is done by `memcmp` under the hood. Do it myself in Python level isn't good."
      ],
      "metadata": {
        "id": "723d0cAsCbab"
      }
    },
    {
      "cell_type": "markdown",
      "source": [
        ""
      ],
      "metadata": {
        "id": "lIlGSHYvD9Xf"
      }
    }
  ]
}