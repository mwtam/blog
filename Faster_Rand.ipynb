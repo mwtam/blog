{
  "nbformat": 4,
  "nbformat_minor": 0,
  "metadata": {
    "colab": {
      "name": "Faster_Rand.ipynb",
      "provenance": [],
      "authorship_tag": "ABX9TyMMyWnNT+0SUm4JOC+SlZ5b",
      "include_colab_link": true
    },
    "kernelspec": {
      "name": "python3",
      "display_name": "Python 3"
    },
    "language_info": {
      "name": "python"
    }
  },
  "cells": [
    {
      "cell_type": "markdown",
      "metadata": {
        "id": "view-in-github",
        "colab_type": "text"
      },
      "source": [
        "<a href=\"https://colab.research.google.com/github/mwtam/blog/blob/main/Faster_Rand.ipynb\" target=\"_parent\"><img src=\"https://colab.research.google.com/assets/colab-badge.svg\" alt=\"Open In Colab\"/></a>"
      ]
    },
    {
      "cell_type": "code",
      "execution_count": 1,
      "metadata": {
        "id": "39nrAqpddTRr"
      },
      "outputs": [],
      "source": [
        "import numpy as np\n",
        "\n",
        "def rand_pool(low, high, pool_size, reture_size):\n",
        "    # No checking. Assume the numbers would work.\n",
        "    while True:\n",
        "        rand_pool = np.random.randint(low, high, size=pool_size)\n",
        "        for i in range(0, pool_size-reture_size, reture_size):\n",
        "            if i+reture_size > pool_size:\n",
        "                # Reached the end. Make a new one.\n",
        "                break\n",
        "            yield rand_pool[i:i+reture_size]\n",
        "\n",
        "def rand_np(n, m):\n",
        "    l = [0] * n\n",
        "\n",
        "    step = 1_000\n",
        "    pool_size = 100_000\n",
        "    my_rand_pool = rand_pool(0, n, pool_size, step)\n",
        "\n",
        "    for _ in range(0, m, step):\n",
        "        arr = next(my_rand_pool)\n",
        "        for i in arr:\n",
        "            l[i] += 1\n",
        "\n",
        "    return l"
      ]
    },
    {
      "cell_type": "code",
      "source": [
        "import random\n",
        "def rand_native(n, m):\n",
        "    l = [0] * n\n",
        "    for _ in range(m):\n",
        "        i = random.randrange(n)\n",
        "        l[i] += 1\n",
        "\n",
        "    return l\n"
      ],
      "metadata": {
        "id": "JpKwq8AodeRI"
      },
      "execution_count": 2,
      "outputs": []
    },
    {
      "cell_type": "code",
      "source": [
        "def base_cmp(n, m):\n",
        "    l = [0] * n\n",
        "    for _ in range(m):\n",
        "        l[0] += 1\n",
        "    return l"
      ],
      "metadata": {
        "id": "GPAzE5NsdcMs"
      },
      "execution_count": 3,
      "outputs": []
    },
    {
      "cell_type": "code",
      "source": [
        "n = 10\n",
        "m = 5_000_000\n",
        "#m = 1_000_000\n",
        "#m = 1_000\n",
        "\n",
        "l = base_cmp(n, m)\n",
        "print(l)\n",
        "l = rand_native(n, m)\n",
        "print(l)\n",
        "l = rand_np(n, m)\n",
        "print(l)\n"
      ],
      "metadata": {
        "colab": {
          "base_uri": "https://localhost:8080/"
        },
        "id": "fdvRVX_fdYVL",
        "outputId": "1578e1a8-db6b-4ed4-f314-f735cb497ded"
      },
      "execution_count": 4,
      "outputs": [
        {
          "output_type": "stream",
          "name": "stdout",
          "text": [
            "[5000000, 0, 0, 0, 0, 0, 0, 0, 0, 0]\n",
            "[500701, 500160, 500491, 500496, 499087, 499193, 499562, 501037, 499556, 499717]\n",
            "[499995, 499899, 499174, 500130, 500361, 499259, 500137, 500575, 499831, 500639]\n"
          ]
        }
      ]
    },
    {
      "cell_type": "code",
      "source": [
        "%timeit base_cmp(n, m)"
      ],
      "metadata": {
        "colab": {
          "base_uri": "https://localhost:8080/"
        },
        "id": "NHnn39xddpVq",
        "outputId": "639e1bcd-b84c-45d9-d28c-018bd1812b03"
      },
      "execution_count": 5,
      "outputs": [
        {
          "output_type": "stream",
          "name": "stdout",
          "text": [
            "1 loop, best of 5: 450 ms per loop\n"
          ]
        }
      ]
    },
    {
      "cell_type": "code",
      "source": [
        "%timeit rand_native(n, m)"
      ],
      "metadata": {
        "colab": {
          "base_uri": "https://localhost:8080/"
        },
        "id": "8D16qZFYdtii",
        "outputId": "77c4c90c-5705-40ea-da74-4ff019f93a84"
      },
      "execution_count": 6,
      "outputs": [
        {
          "output_type": "stream",
          "name": "stdout",
          "text": [
            "1 loop, best of 5: 5.54 s per loop\n"
          ]
        }
      ]
    },
    {
      "cell_type": "code",
      "source": [
        "%timeit rand_np(n, m)"
      ],
      "metadata": {
        "colab": {
          "base_uri": "https://localhost:8080/"
        },
        "id": "Ko5S6vWydtlt",
        "outputId": "0076314f-59f0-4f66-e6b2-52a11dc9d6c8"
      },
      "execution_count": 7,
      "outputs": [
        {
          "output_type": "stream",
          "name": "stdout",
          "text": [
            "1 loop, best of 5: 885 ms per loop\n"
          ]
        }
      ]
    }
  ]
}