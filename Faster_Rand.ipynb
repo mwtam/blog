{
  "nbformat": 4,
  "nbformat_minor": 0,
  "metadata": {
    "colab": {
      "name": "Faster_Rand.ipynb",
      "provenance": [],
      "authorship_tag": "ABX9TyMMyWnNT+0SUm4JOC+SlZ5b",
      "include_colab_link": true
    },
    "kernelspec": {
      "name": "python3",
      "display_name": "Python 3"
    },
    "language_info": {
      "name": "python"
    }
  },
  "cells": [
    {
      "cell_type": "markdown",
      "metadata": {
        "id": "view-in-github",
        "colab_type": "text"
      },
      "source": [
        "<a href=\"https://colab.research.google.com/github/mwtam/blog/blob/main/Faster_Rand.ipynb\" target=\"_parent\"><img src=\"https://colab.research.google.com/assets/colab-badge.svg\" alt=\"Open In Colab\"/></a>"
      ]
    },
    {
      "cell_type": "code",
      "execution_count": 8,
      "metadata": {
        "id": "39nrAqpddTRr"
      },
      "outputs": [],
      "source": [
        "import numpy as np\n",
        "\n",
        "def rand_pool(low, high, pool_size, reture_size):\n",
        "    # No checking. Assume the numbers would work.\n",
        "    while True:\n",
        "        rand_pool = np.random.randint(low, high, size=pool_size)\n",
        "        for i in range(0, pool_size-reture_size, reture_size):\n",
        "            if i+reture_size > pool_size:\n",
        "                # Reached the end. Make a new one.\n",
        "                break\n",
        "            yield rand_pool[i:i+reture_size]\n",
        "\n",
        "def rand_np(n, m):\n",
        "    l = [0] * n\n",
        "\n",
        "    step = 1_000\n",
        "    pool_size = 100_000\n",
        "    my_rand_pool = rand_pool(0, n, pool_size, step)\n",
        "\n",
        "    for _ in range(0, m, step):\n",
        "        arr = next(my_rand_pool)\n",
        "        for i in arr:\n",
        "            l[i] += 1\n",
        "\n",
        "    return l"
      ]
    },
    {
      "cell_type": "code",
      "source": [
        "import random\n",
        "def rand_native(n, m):\n",
        "    l = [0] * n\n",
        "    for _ in range(m):\n",
        "        i = random.randrange(n)\n",
        "        l[i] += 1\n",
        "\n",
        "    return l\n"
      ],
      "metadata": {
        "id": "JpKwq8AodeRI"
      },
      "execution_count": 9,
      "outputs": []
    },
    {
      "cell_type": "code",
      "source": [
        "def base_cmp(n, m):\n",
        "    l = [0] * n\n",
        "    for _ in range(m):\n",
        "        l[0] += 1\n",
        "    return l"
      ],
      "metadata": {
        "id": "GPAzE5NsdcMs"
      },
      "execution_count": 10,
      "outputs": []
    },
    {
      "cell_type": "code",
      "source": [
        "n = 10\n",
        "m = 5_000_000\n",
        "#m = 1_000_000\n",
        "#m = 1_000\n",
        "\n",
        "l = base_cmp(n, m)\n",
        "print(l)\n",
        "l = rand_native(n, m)\n",
        "print(l)\n",
        "l = rand_np(n, m)\n",
        "print(l)\n"
      ],
      "metadata": {
        "colab": {
          "base_uri": "https://localhost:8080/"
        },
        "id": "fdvRVX_fdYVL",
        "outputId": "f3384f4b-e668-4688-8f48-868c38911bd7"
      },
      "execution_count": 11,
      "outputs": [
        {
          "output_type": "stream",
          "name": "stdout",
          "text": [
            "[5000000, 0, 0, 0, 0, 0, 0, 0, 0, 0]\n",
            "[499470, 499572, 500198, 499551, 500019, 500126, 501220, 500720, 499480, 499644]\n",
            "[500532, 500920, 499372, 501450, 498331, 499014, 499193, 501630, 498944, 500614]\n"
          ]
        }
      ]
    },
    {
      "cell_type": "code",
      "source": [
        "%timeit base_cmp(n, m)"
      ],
      "metadata": {
        "colab": {
          "base_uri": "https://localhost:8080/"
        },
        "id": "NHnn39xddpVq",
        "outputId": "701c9741-b828-4a92-99d2-29cbc7623986"
      },
      "execution_count": 12,
      "outputs": [
        {
          "output_type": "stream",
          "name": "stdout",
          "text": [
            "1 loop, best of 5: 469 ms per loop\n"
          ]
        }
      ]
    },
    {
      "cell_type": "code",
      "source": [
        "%timeit rand_native(n, m)"
      ],
      "metadata": {
        "colab": {
          "base_uri": "https://localhost:8080/"
        },
        "id": "8D16qZFYdtii",
        "outputId": "0059dac2-6a1c-4c1c-9aad-82b61d3720bd"
      },
      "execution_count": 13,
      "outputs": [
        {
          "output_type": "stream",
          "name": "stdout",
          "text": [
            "1 loop, best of 5: 5.52 s per loop\n"
          ]
        }
      ]
    },
    {
      "cell_type": "code",
      "source": [
        "%timeit rand_np(n, m)"
      ],
      "metadata": {
        "colab": {
          "base_uri": "https://localhost:8080/"
        },
        "id": "Ko5S6vWydtlt",
        "outputId": "e823b2f5-cab2-41b8-a8ad-59ab830d1056"
      },
      "execution_count": 14,
      "outputs": [
        {
          "output_type": "stream",
          "name": "stdout",
          "text": [
            "1 loop, best of 5: 866 ms per loop\n"
          ]
        }
      ]
    }
  ]
}