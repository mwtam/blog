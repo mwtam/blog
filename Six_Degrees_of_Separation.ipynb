{
  "nbformat": 4,
  "nbformat_minor": 0,
  "metadata": {
    "colab": {
      "name": "Six_Degrees_of_Separation.ipynb",
      "provenance": [],
      "collapsed_sections": [],
      "authorship_tag": "ABX9TyP5Fli3ITnGDirgBAJK3Z3z",
      "include_colab_link": true
    },
    "kernelspec": {
      "name": "python3",
      "display_name": "Python 3"
    },
    "language_info": {
      "name": "python"
    }
  },
  "cells": [
    {
      "cell_type": "markdown",
      "metadata": {
        "id": "view-in-github",
        "colab_type": "text"
      },
      "source": [
        "<a href=\"https://colab.research.google.com/github/mwtam/blog/blob/main/Six_Degrees_of_Separation.ipynb\" target=\"_parent\"><img src=\"https://colab.research.google.com/assets/colab-badge.svg\" alt=\"Open In Colab\"/></a>"
      ]
    },
    {
      "cell_type": "code",
      "execution_count": 1,
      "metadata": {
        "id": "4kAYeXDV5Pbd"
      },
      "outputs": [],
      "source": [
        "import random\n",
        "from math import log\n",
        "from itertools import product"
      ]
    },
    {
      "cell_type": "code",
      "source": [
        "def print_world_graph(world, nodes, level, printed, break_early=1.0):\n",
        "    if level > 100:\n",
        "        print(\"===== TOO MANY LEVELS =====\")\n",
        "        print(f\"{len(world)} people in the world\")\n",
        "        print(f\"{len(printed)} people are printed\")\n",
        "        return -1\n",
        "\n",
        "    if len(printed) / len(world) > break_early:\n",
        "        # See if there is edge effect.\n",
        "        # That's a few people make the number\n",
        "        # of levels increases a lot.\n",
        "        print(f\"Break Early at {break_early}\")\n",
        "        return -2\n",
        "\n",
        "    next_level_nodes = set()\n",
        "    for i in (nodes - printed):\n",
        "        #print(f\"{i}: {world[i]}\")\n",
        "        next_level_nodes |= world[i]\n",
        "\n",
        "    printed |= nodes\n",
        "    next_level_nodes -= printed\n",
        "\n",
        "    if next_level_nodes:\n",
        "        #print(\"=\"*5, f\"LEVEL: {level+1}\" , \"=\"*5)\n",
        "        #print(\"Number of people:\", len(next_level_nodes))\n",
        "        return print_world_graph(world, next_level_nodes, level+1, printed)\n",
        "\n",
        "    if level == 0:\n",
        "        print(f\"world population: {len(world)}, printed: {len(printed)}\")\n",
        "\n",
        "    # Recursion base case: If no next_level_nodes, return.\n",
        "    return level"
      ],
      "metadata": {
        "id": "xqtR5vOE5cGU"
      },
      "execution_count": 2,
      "outputs": []
    },
    {
      "cell_type": "code",
      "source": [
        "def run_it(n_population=100, neighbor_distance=1, n_random_friend=0):\n",
        "\n",
        "    world = [set() for _ in range(n_population)]\n",
        "\n",
        "    for i, p in enumerate(world):\n",
        "        # Neighbors are friends.\n",
        "        for d in range(1, neighbor_distance+1):\n",
        "            p.add((i-d)%n_population)\n",
        "            p.add((i+d)%n_population)\n",
        "\n",
        "        target_n_friends = n_random_friend+neighbor_distance*2\n",
        "        while len(p) < target_n_friends:\n",
        "            # Add a random friend.\n",
        "            p |= set(random.sample(range(n_population), target_n_friends-len(p)))\n",
        "            # This process allow a person friends himself. Let go.\n",
        "\n",
        "    level = print_world_graph(world, set([0]), 0, set(), 1)\n",
        "    print(f\"level={level}\")"
      ],
      "metadata": {
        "id": "h-_yLmp35gIt"
      },
      "execution_count": 5,
      "outputs": []
    },
    {
      "cell_type": "code",
      "source": [
        "def main():\n",
        "    for n, d in product([0, 1, 2, 5, 10, 20], [1, 10, 100]):\n",
        "        parameters = {\n",
        "            \"n_population\": 100_000,\n",
        "            #\"n_population\": 10_000,\n",
        "            #\"n_population\": 1_000,\n",
        "            \"neighbor_distance\": d,\n",
        "            \"n_random_friend\": n,\n",
        "        }\n",
        "        print(\"=\" * 30)\n",
        "        print(parameters)\n",
        "\n",
        "        # Watts-Strogatz model\n",
        "        try:\n",
        "            exp_n_level = log(parameters[\"n_population\"]) / log(n)\n",
        "            print(f\"Expected number of level: {exp_n_level:,.2f}\")\n",
        "        except (ValueError, ZeroDivisionError):\n",
        "            print(\"Expected number of level: undefined\")\n",
        "\n",
        "        run_it(**parameters)"
      ],
      "metadata": {
        "id": "CYwMBOnB5iNQ"
      },
      "execution_count": 6,
      "outputs": []
    },
    {
      "cell_type": "code",
      "source": [
        "main()"
      ],
      "metadata": {
        "colab": {
          "base_uri": "https://localhost:8080/"
        },
        "id": "DgSj1RDw5lQB",
        "outputId": "c0b321c1-4dab-4d2a-8ffd-325cde7cff2f"
      },
      "execution_count": 7,
      "outputs": [
        {
          "output_type": "stream",
          "name": "stdout",
          "text": [
            "==============================\n",
            "{'n_population': 100000, 'neighbor_distance': 1, 'n_random_friend': 0}\n",
            "Expected number of level: undefined\n",
            "===== TOO MANY LEVELS =====\n",
            "100000 people in the world\n",
            "201 people are printed\n",
            "level=-1\n",
            "==============================\n",
            "{'n_population': 100000, 'neighbor_distance': 10, 'n_random_friend': 0}\n",
            "Expected number of level: undefined\n",
            "===== TOO MANY LEVELS =====\n",
            "100000 people in the world\n",
            "2001 people are printed\n",
            "level=-1\n",
            "==============================\n",
            "{'n_population': 100000, 'neighbor_distance': 100, 'n_random_friend': 0}\n",
            "Expected number of level: undefined\n",
            "===== TOO MANY LEVELS =====\n",
            "100000 people in the world\n",
            "20001 people are printed\n",
            "level=-1\n",
            "==============================\n",
            "{'n_population': 100000, 'neighbor_distance': 1, 'n_random_friend': 1}\n",
            "Expected number of level: undefined\n",
            "level=19\n",
            "==============================\n",
            "{'n_population': 100000, 'neighbor_distance': 10, 'n_random_friend': 1}\n",
            "Expected number of level: undefined\n",
            "level=8\n",
            "==============================\n",
            "{'n_population': 100000, 'neighbor_distance': 100, 'n_random_friend': 1}\n",
            "Expected number of level: undefined\n",
            "level=5\n",
            "==============================\n",
            "{'n_population': 100000, 'neighbor_distance': 1, 'n_random_friend': 2}\n",
            "Expected number of level: 16.61\n",
            "level=13\n",
            "==============================\n",
            "{'n_population': 100000, 'neighbor_distance': 10, 'n_random_friend': 2}\n",
            "Expected number of level: 16.61\n",
            "level=7\n",
            "==============================\n",
            "{'n_population': 100000, 'neighbor_distance': 100, 'n_random_friend': 2}\n",
            "Expected number of level: 16.61\n",
            "level=5\n",
            "==============================\n",
            "{'n_population': 100000, 'neighbor_distance': 1, 'n_random_friend': 5}\n",
            "Expected number of level: 7.15\n",
            "level=8\n",
            "==============================\n",
            "{'n_population': 100000, 'neighbor_distance': 10, 'n_random_friend': 5}\n",
            "Expected number of level: 7.15\n",
            "level=6\n",
            "==============================\n",
            "{'n_population': 100000, 'neighbor_distance': 100, 'n_random_friend': 5}\n",
            "Expected number of level: 7.15\n",
            "level=4\n",
            "==============================\n",
            "{'n_population': 100000, 'neighbor_distance': 1, 'n_random_friend': 10}\n",
            "Expected number of level: 5.00\n",
            "level=6\n",
            "==============================\n",
            "{'n_population': 100000, 'neighbor_distance': 10, 'n_random_friend': 10}\n",
            "Expected number of level: 5.00\n",
            "level=5\n",
            "==============================\n",
            "{'n_population': 100000, 'neighbor_distance': 100, 'n_random_friend': 10}\n",
            "Expected number of level: 5.00\n",
            "level=4\n",
            "==============================\n",
            "{'n_population': 100000, 'neighbor_distance': 1, 'n_random_friend': 20}\n",
            "Expected number of level: 3.84\n",
            "level=5\n",
            "==============================\n",
            "{'n_population': 100000, 'neighbor_distance': 10, 'n_random_friend': 20}\n",
            "Expected number of level: 3.84\n",
            "level=4\n",
            "==============================\n",
            "{'n_population': 100000, 'neighbor_distance': 100, 'n_random_friend': 20}\n",
            "Expected number of level: 3.84\n",
            "level=4\n"
          ]
        }
      ]
    }
  ]
}