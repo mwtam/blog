{
  "nbformat": 4,
  "nbformat_minor": 0,
  "metadata": {
    "colab": {
      "name": "Einstein's riddle.ipynb",
      "provenance": [],
      "collapsed_sections": [],
      "authorship_tag": "ABX9TyNMhOJGSWwcXf5z/t6VbjZI",
      "include_colab_link": true
    },
    "kernelspec": {
      "name": "python3",
      "display_name": "Python 3"
    },
    "language_info": {
      "name": "python"
    }
  },
  "cells": [
    {
      "cell_type": "markdown",
      "metadata": {
        "id": "view-in-github",
        "colab_type": "text"
      },
      "source": [
        "<a href=\"https://colab.research.google.com/github/mwtam/blog/blob/main/Einstein's_riddle.ipynb\" target=\"_parent\"><img src=\"https://colab.research.google.com/assets/colab-badge.svg\" alt=\"Open In Colab\"/></a>"
      ]
    },
    {
      "cell_type": "code",
      "execution_count": 55,
      "metadata": {
        "id": "aJp4cDOkFHyE"
      },
      "outputs": [],
      "source": [
        "import copy"
      ]
    },
    {
      "cell_type": "code",
      "source": [
        "class House:\n",
        "    def __init__(self):\n",
        "        self.person = None\n",
        "        self.color = None\n",
        "        self.pet = None\n",
        "        self.drinks = None\n",
        "        self.smoke = None\n",
        "\n",
        "    def __str__(self):\n",
        "        return f\"{str(self.person):>10} {str(self.color):>8} {str(self.pet):>8} {str(self.drinks):>8} {str(self.smoke):>12}\"\n"
      ],
      "metadata": {
        "id": "KE9I97ioGLZ-"
      },
      "execution_count": 56,
      "outputs": []
    },
    {
      "cell_type": "code",
      "source": [
        "def print_answer(answer):\n",
        "    for i, h in enumerate(answer, start=1):\n",
        "        print(f\"{i}: {h}\")\n",
        "\n",
        "def v(field, s):\n",
        "    # v = valid: can fill the field with s\n",
        "    # Either it is empty, or it is already the value s.\n",
        "    return field is None or field == s\n",
        "\n",
        "def vaild_answer(answer):\n",
        "    person = set()\n",
        "    color = set()\n",
        "    pet = set()\n",
        "    drinks = set()\n",
        "    smoke = set()\n",
        "\n",
        "    for h in answer:\n",
        "        if h.person is not None:\n",
        "            if h.person not in person:\n",
        "                person.add(h.person)\n",
        "            else:\n",
        "                person.add(h.person)\n",
        "                return False\n",
        "\n",
        "        if h.color is not None:\n",
        "            if h.color not in color:\n",
        "                color.add(h.color)\n",
        "            else:\n",
        "                return False\n",
        "\n",
        "        if h.pet is not None:\n",
        "            if h.pet not in pet:\n",
        "                pet.add(h.pet)\n",
        "            else:\n",
        "                return False\n",
        "\n",
        "        if h.drinks is not None:\n",
        "            if h.drinks not in drinks:\n",
        "                drinks.add(h.drinks)\n",
        "            else:\n",
        "                return False\n",
        "\n",
        "        if h.smoke is not None:\n",
        "            if h.smoke not in smoke:\n",
        "                smoke.add(h.smoke)\n",
        "            else:\n",
        "                return False\n",
        "\n",
        "    return True\n"
      ],
      "metadata": {
        "id": "Vh0PL8OzHS1Y"
      },
      "execution_count": 57,
      "outputs": []
    },
    {
      "cell_type": "code",
      "source": [
        "def norwegian_first(answers):\n",
        "    for a in answers:\n",
        "        if v(a[0].person, \"Norwegian\"):\n",
        "            new_a = copy.deepcopy(a)\n",
        "            new_a[0].person = \"Norwegian\"\n",
        "            if vaild_answer(new_a):\n",
        "                yield new_a\n",
        "\n",
        "def green_left_to_white(answers):\n",
        "    for a in answers:\n",
        "        for i in range(len(a) - 1):\n",
        "            if v(a[i].color, \"Green\") and v(a[i+1].color, \"White\"):\n",
        "                new_a = copy.deepcopy(a)\n",
        "                new_a[i].color = \"Green\"\n",
        "                new_a[i+1].color = \"White\"\n",
        "                if vaild_answer(new_a):\n",
        "                    yield new_a\n",
        "\n",
        "def mid_milk(answers):\n",
        "    for a in answers:\n",
        "        mid = len(a) // 2\n",
        "        if v(a[mid].drinks, \"Milk\"):\n",
        "            new_a = copy.deepcopy(a)\n",
        "            new_a[mid].drinks = \"Milk\"\n",
        "            if vaild_answer(new_a):\n",
        "                yield new_a\n",
        "\n",
        "def same_house(answers, relationship):\n",
        "    f1, v1, f2, v2 = relationship.split()\n",
        "    for a in answers:\n",
        "        for i in range(len(a)):\n",
        "            if v(getattr(a[i], f1), v1) and v(getattr(a[i], f2), v2):\n",
        "                new_a = copy.deepcopy(a)\n",
        "                setattr(new_a[i], f1, v1)\n",
        "                setattr(new_a[i], f2, v2)\n",
        "                if vaild_answer(new_a):\n",
        "                    yield new_a\n",
        "\n",
        "def next_house(answers, relationship):\n",
        "    f1, v1, f2, v2 = relationship.split()\n",
        "    for a in answers:\n",
        "        for i in range(len(a) - 1):\n",
        "            if v(getattr(a[i], f1), v1) and v(getattr(a[i+1], f2), v2):\n",
        "                new_a = copy.deepcopy(a)\n",
        "                setattr(new_a[i], f1, v1)\n",
        "                setattr(new_a[i+1], f2, v2)\n",
        "                if vaild_answer(new_a):\n",
        "                    yield new_a\n",
        "        for i in range(1, len(a)):\n",
        "            if v(getattr(a[i], f1), v1) and v(getattr(a[i-1], f2), v2):\n",
        "                new_a = copy.deepcopy(a)\n",
        "                setattr(new_a[i], f1, v1)\n",
        "                setattr(new_a[i-1], f2, v2)\n",
        "                if vaild_answer(new_a):\n",
        "                    yield new_a\n"
      ],
      "metadata": {
        "id": "SGdhz-4_LN8w"
      },
      "execution_count": 58,
      "outputs": []
    },
    {
      "cell_type": "code",
      "source": [
        "def solve():\n",
        "    initial_answer = [House() for _ in range(5)]\n",
        "\n",
        "    g = [initial_answer]\n",
        "\n",
        "    # Specific hints first\n",
        "    g = norwegian_first(g)\n",
        "    g = mid_milk(g)\n",
        "\n",
        "    # This is Specific after Norwegian is fixed\n",
        "    g = next_house(g, \"person Norwegian color Blue\")\n",
        "\n",
        "    # Since Blue is know, add all color related rules\n",
        "    g = same_house(g, \"person Brit color Red\")\n",
        "    g = same_house(g, \"smoke Dunhill color Yellow\")\n",
        "    g = same_house(g, \"drinks Coffee color Green\")\n",
        "    g = green_left_to_white(g)\n",
        "\n",
        "    # Then drinks, for there are two drinks appeared already\n",
        "    g = next_house(g, \"smoke Blend drinks Water\")\n",
        "    g = same_house(g, \"smoke BlueMaster drinks Beer\")\n",
        "    g = same_house(g, \"person Dane drinks Tea\")\n",
        "\n",
        "    # Finally smoke\n",
        "    g = next_house(g, \"smoke Dunhill pet Horse\")\n",
        "    g = same_house(g, \"smoke Pallmall pet Bird\")\n",
        "    g = next_house(g, \"smoke Blend pet Cat\")\n",
        "    g = same_house(g, \"person German smoke Prince\")\n",
        "\n",
        "    # The final hint\n",
        "    g = same_house(g, \"person Swede pet Dog\")\n",
        "\n",
        "    for i, a in enumerate(g):\n",
        "        # The hints never mention fish.\n",
        "        # It is the final None in the answer.\n",
        "        for h in a:\n",
        "            if h.pet is None:\n",
        "                h.pet = \"* FISH *\"\n",
        "\n",
        "        print(\"=\" * 10, i, \"=\" * 10)\n",
        "        print_answer(a)\n",
        "        # ========== 0 ==========\n",
        "        # 1:  Norwegian   Yellow      Cat    Water      Dunhill\n",
        "        # 2:       Dane     Blue    Horse      Tea        Blend\n",
        "        # 3:       Brit      Red     Bird     Milk     Pallmall\n",
        "        # 4:     German    Green * FISH *   Coffee       Prince\n",
        "        # 5:      Swede    White      Dog     Beer   BlueMaster\n"
      ],
      "metadata": {
        "id": "B7coF1PEI9Ej"
      },
      "execution_count": 59,
      "outputs": []
    },
    {
      "cell_type": "code",
      "source": [
        "solve()"
      ],
      "metadata": {
        "colab": {
          "base_uri": "https://localhost:8080/"
        },
        "id": "pzk0wiY7DkSd",
        "outputId": "77057ab3-3854-4463-ec88-f647029ee96a"
      },
      "execution_count": 60,
      "outputs": [
        {
          "output_type": "stream",
          "name": "stdout",
          "text": [
            "========== 0 ==========\n",
            "1:  Norwegian   Yellow      Cat    Water      Dunhill\n",
            "2:       Dane     Blue    Horse      Tea        Blend\n",
            "3:       Brit      Red     Bird     Milk     Pallmall\n",
            "4:     German    Green * FISH *   Coffee       Prince\n",
            "5:      Swede    White      Dog     Beer   BlueMaster\n"
          ]
        }
      ]
    }
  ]
}