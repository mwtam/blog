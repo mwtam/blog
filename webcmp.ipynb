{
  "nbformat": 4,
  "nbformat_minor": 0,
  "metadata": {
    "colab": {
      "name": "webcmp.ipynb",
      "provenance": [],
      "collapsed_sections": [],
      "authorship_tag": "ABX9TyNQ8AuTKXYinVlMgmfQiHiJ",
      "include_colab_link": true
    },
    "kernelspec": {
      "name": "python3",
      "display_name": "Python 3"
    },
    "language_info": {
      "name": "python"
    }
  },
  "cells": [
    {
      "cell_type": "markdown",
      "metadata": {
        "id": "view-in-github",
        "colab_type": "text"
      },
      "source": [
        "<a href=\"https://colab.research.google.com/github/mwtam/blog/blob/main/webcmp.ipynb\" target=\"_parent\"><img src=\"https://colab.research.google.com/assets/colab-badge.svg\" alt=\"Open In Colab\"/></a>"
      ]
    },
    {
      "cell_type": "code",
      "source": [
        "def all_work():\n",
        "    work = {\n",
        "        \"example\": [\n",
        "            \"https://example.com\",\n",
        "            \".*\"\n",
        "        ],\n",
        "    }\n",
        "    return work\n",
        "\n",
        "\n",
        "def new_work():\n",
        "    work = {\n",
        "        \"example\": [\n",
        "            \"https://exampleaaa.com\",\n",
        "            \".*\"\n",
        "        ],\n",
        "    }\n",
        "\n",
        "    return work"
      ],
      "metadata": {
        "id": "0XFHHjY9k2td"
      },
      "execution_count": 5,
      "outputs": []
    },
    {
      "cell_type": "code",
      "execution_count": 2,
      "metadata": {
        "id": "je0qoM-Dkr1X"
      },
      "outputs": [],
      "source": [
        "import re\n",
        "import requests\n",
        "from datetime import datetime\n",
        "import enum\n",
        "\n",
        "\n",
        "class VisitResult(enum.IntEnum):\n",
        "    CHANGED = enum.auto()\n",
        "    UNCHANGED = enum.auto()\n",
        "    NEW_TITLE = enum.auto()\n",
        "    FAILED = enum.auto()\n",
        "    UNKNOWN_ERROR = enum.auto()\n",
        "\n",
        "\n",
        "def load_page(url):\n",
        "    try:\n",
        "        res = requests.get(url, headers={'User-Agent': 'Custom'})\n",
        "        return res.status_code, res.text\n",
        "    except requests.exceptions.ConnectionError as e:\n",
        "        return e, \"\"\n",
        "\n",
        "\n",
        "def visit(title, url, re_str):\n",
        "    rc, webpage = load_page(url)\n",
        "    if rc != requests.codes.ok:\n",
        "        return VisitResult.FAILED, f\"Fail to get the page: {rc}\"\n",
        "\n",
        "    p = re.compile(re_str)\n",
        "    result = set(l.strip() for l in p.findall(webpage))\n",
        "\n",
        "    with open(f\"{title}_new.txt\", \"w\") as f:\n",
        "        f.write(\"\\n\".join(result))\n",
        "\n",
        "    try:\n",
        "        # Compare with the old result\n",
        "        with open(f\"{title}.txt\") as f:\n",
        "            old_result = set([l.strip() for l in f])\n",
        "    except FileNotFoundError:\n",
        "        with open(f\"{title}.txt\", \"w\") as f:\n",
        "            f.write(\"\\n\".join(result))\n",
        "        return VisitResult.NEW_TITLE, \"New Title\"\n",
        "\n",
        "    if result == old_result:\n",
        "        return VisitResult.UNCHANGED, \"Nothing Changed\"\n",
        "    else:\n",
        "        return VisitResult.CHANGED, \"Updated\"\n",
        "\n",
        "\n",
        "def main():\n",
        "    work = all_work()\n",
        "    # work = new_work()\n",
        "\n",
        "    results = []\n",
        "    for title, (url, re_str) in work.items():\n",
        "        print(f\"Working on {title}\")\n",
        "        # print(f\"{url=}\")\n",
        "        # print(f\"{re_str}\")\n",
        "        try:\n",
        "            result, msg = visit(title, url, re_str)\n",
        "            results.append((result, title, url, msg))\n",
        "        except Exception as e:\n",
        "            results.append((VisitResult.UNKNOWN_ERROR, title, url, str(e)))\n",
        "\n",
        "    results.sort()\n",
        "    for t in results:\n",
        "        print(t)"
      ]
    },
    {
      "cell_type": "code",
      "source": [
        "main()"
      ],
      "metadata": {
        "colab": {
          "base_uri": "https://localhost:8080/"
        },
        "id": "jQXWBA2akubW",
        "outputId": "72ca529d-189c-41eb-be64-dbe7edf95f18"
      },
      "execution_count": 7,
      "outputs": [
        {
          "output_type": "stream",
          "name": "stdout",
          "text": [
            "Working on example\n",
            "(<VisitResult.UNCHANGED: 2>, 'example', 'https://example.com', 'Nothing Changed')\n"
          ]
        }
      ]
    }
  ]
}