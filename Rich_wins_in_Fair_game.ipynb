{
  "nbformat": 4,
  "nbformat_minor": 0,
  "metadata": {
    "colab": {
      "name": "Rich wins in Fair game.ipynb",
      "provenance": [],
      "collapsed_sections": [],
      "authorship_tag": "ABX9TyNa2vkBTMe7cr6LBDU4RCza",
      "include_colab_link": true
    },
    "kernelspec": {
      "name": "python3",
      "display_name": "Python 3"
    },
    "language_info": {
      "name": "python"
    }
  },
  "cells": [
    {
      "cell_type": "markdown",
      "metadata": {
        "id": "view-in-github",
        "colab_type": "text"
      },
      "source": [
        "<a href=\"https://colab.research.google.com/github/mwtam/blog/blob/main/Rich_wins_in_Fair_game.ipynb\" target=\"_parent\"><img src=\"https://colab.research.google.com/assets/colab-badge.svg\" alt=\"Open In Colab\"/></a>"
      ]
    },
    {
      "cell_type": "code",
      "execution_count": 97,
      "metadata": {
        "id": "WrNe5q2-3U2V"
      },
      "outputs": [],
      "source": [
        "import random"
      ]
    },
    {
      "cell_type": "code",
      "source": [
        "def play(rich, poor, bet, rounds):\n",
        "  for i in range(rounds):\n",
        "    #print(f\"{i}: rich vs poor = {rich:,.2f} vs {poor:,.2f}\")\n",
        "    if rich < bet or poor < bet:\n",
        "      break\n",
        "    x = random.choice([1, -1])\n",
        "    rich += x * bet\n",
        "    poor += -x * bet\n",
        "\n",
        "  #print(f\"{i}: rich vs poor = {rich:,.2f} vs {poor:,.2f} END\")\n",
        "\n",
        "  return i, rich, poor"
      ],
      "metadata": {
        "id": "1Q_4j6Ch3rJI"
      },
      "execution_count": 98,
      "outputs": []
    },
    {
      "cell_type": "code",
      "source": [
        "\n",
        "rich_count = 0\n",
        "poor_count = 0\n",
        "draw_count = 0\n",
        "\n",
        "parameter = {\n",
        "  \"rich\": 1_000_000,\n",
        "  \"poor\": 10_000,\n",
        "  \"bet\": 5_000,\n",
        "  \"rounds\": 10_000,\n",
        "}\n",
        "\n",
        "games = 10_000\n",
        "\n",
        "for _ in range(games):\n",
        "  i, rich, poor = play(**parameter)\n",
        "  #print(f\"{i}: rich vs poor = {rich:,.2f} vs {poor:,.2f}\")\n",
        "\n",
        "  if poor < parameter[\"bet\"]:\n",
        "    rich_count += 1\n",
        "  elif rich < parameter[\"bet\"]:\n",
        "    poor_count += 1\n",
        "  else:\n",
        "    draw_count += 1\n",
        "\n",
        "assert(rich_count + poor_count + draw_count == games)\n",
        "\n",
        "print(\"=\" * 10)\n",
        "print(f\"rich vs poor = {rich_count:,} vs {poor_count:,}; draw {draw_count:,}\")\n",
        "\n"
      ],
      "metadata": {
        "colab": {
          "base_uri": "https://localhost:8080/"
        },
        "id": "T3c2pmBa3tRr",
        "outputId": "8ce664dc-7755-4923-ceb6-43be8be781fa"
      },
      "execution_count": 99,
      "outputs": [
        {
          "output_type": "stream",
          "name": "stdout",
          "text": [
            "==========\n",
            "rich vs poor = 9,838 vs 43; draw 119\n"
          ]
        }
      ]
    }
  ]
}